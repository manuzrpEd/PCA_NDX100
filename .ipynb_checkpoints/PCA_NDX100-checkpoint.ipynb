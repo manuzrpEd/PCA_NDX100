{
 "cells": [
  {
   "cell_type": "markdown",
   "id": "9300e468",
   "metadata": {},
   "source": [
    "# 0. Introduction"
   ]
  },
  {
   "cell_type": "markdown",
   "id": "dc221ae3",
   "metadata": {},
   "source": [
    "In this notebook, I am going to show how to use principal component analysis (PCA) to analyze a portfolio of stocks.\n",
    "PCA is a way to reduce the number of dimensions in a data set.\n",
    "It keeps the dimensions that hold the most information about the data.\n",
    "Applied to a portfolio, PCA isolates the statistical return drivers of a portfolio. This can further be used for hedging risk."
   ]
  },
  {
   "cell_type": "code",
   "execution_count": null,
   "id": "a613a1de",
   "metadata": {},
   "outputs": [],
   "source": [
    "# resources:\n",
    "# https://pyquantnews.com/how-to-isolate-alpha-with-analysis/"
   ]
  },
  {
   "cell_type": "code",
   "execution_count": null,
   "id": "621ebdd1",
   "metadata": {},
   "outputs": [],
   "source": [
    "# import libraries\n",
    "import matplotlib.pyplot as plt\n",
    "import numpy as np\n",
    "import pandas as pd\n",
    "import seaborn as sn\n",
    "sn.set_style('whitegrid')\n",
    "import yfinance as yf\n",
    "#\n",
    "from sklearn.decomposition import PCA\n"
   ]
  },
  {
   "cell_type": "markdown",
   "id": "91fe6487",
   "metadata": {},
   "source": [
    "# 1. Get the data"
   ]
  },
  {
   "cell_type": "code",
   "execution_count": null,
   "id": "2d60989e",
   "metadata": {},
   "outputs": [],
   "source": [
    "symbols = [\n",
    "    'IBM',\n",
    "    'MSFT',\n",
    "    'META',\n",
    "    'INTC',\n",
    "    'NEM',\n",
    "    'AU',\n",
    "    'AEM',\n",
    "    'GFI'\n",
    "]\n",
    "data = yf.download(symbols, start=\"2020-01-01\", end=\"2022-11-30\")\n",
    "portfolio_returns = data['Adj Close'].pct_change().dropna()"
   ]
  },
  {
   "cell_type": "markdown",
   "id": "0f7c0c11",
   "metadata": {},
   "source": [
    "# 2. Fit a PCA model"
   ]
  },
  {
   "cell_type": "code",
   "execution_count": null,
   "id": "55000028",
   "metadata": {},
   "outputs": [],
   "source": [
    "pca = PCA(n_components=3)\n",
    "pca.fit(portfolio_returns)\n",
    "#obtain components\n",
    "pct = pca.explained_variance_ratio_\n",
    "pca_components = pca.components_"
   ]
  },
  {
   "cell_type": "markdown",
   "id": "72655249",
   "metadata": {},
   "source": [
    "# 3. Fit a PCA model"
   ]
  },
  {
   "cell_type": "code",
   "execution_count": null,
   "id": "eac88ebe",
   "metadata": {},
   "outputs": [],
   "source": [
    "cum_pct = np.cumsum(pct)\n",
    "x = np.arange(1,len(pct)+1,1)\n",
    "\n",
    "plt.subplot(1, 2, 1)\n",
    "plt.bar(x, pct * 100, align=\"center\")\n",
    "plt.title('Contribution (%)')\n",
    "plt.xlabel('Component')\n",
    "plt.xticks(x)\n",
    "plt.xlim([0, 4])\n",
    "plt.ylim([0, 100])\n",
    "\n",
    "plt.subplot(1, 2, 2)\n",
    "plt.plot(x, cum_pct * 100, 'ro-')\n",
    "plt.title('Cumulative contribution (%)')\n",
    "plt.xlabel('Component')\n",
    "plt.xticks(x)\n",
    "plt.xlim([0, 4])\n",
    "plt.ylim([0, 100])"
   ]
  }
 ],
 "metadata": {
  "kernelspec": {
   "display_name": "Python 3 (ipykernel)",
   "language": "python",
   "name": "python3"
  },
  "language_info": {
   "codemirror_mode": {
    "name": "ipython",
    "version": 3
   },
   "file_extension": ".py",
   "mimetype": "text/x-python",
   "name": "python",
   "nbconvert_exporter": "python",
   "pygments_lexer": "ipython3",
   "version": "3.9.12"
  }
 },
 "nbformat": 4,
 "nbformat_minor": 5
}
